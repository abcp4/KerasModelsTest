{
 "cells": [
  {
   "cell_type": "markdown",
   "metadata": {},
   "source": [
    "# Questão 1\n",
    "Seja $A_{a,b,n}$ $\\in$ $\\mathbf{R}^{n\\times n}$ uma matriz tri-diagonal dada por:\n",
    "$$A_{a,b,n}=\\begin{bmatrix}\n",
    "a & b & 0 & \\cdots & 0 & 0\\\\ \n",
    "b & a & b & \\ddots & \\ddots & \\vdots\\\\ \n",
    "0 & b & a & b & \\ddots & \\vdots\\\\ \n",
    "\\vdots & \\ddots & \\ddots & \\ddots & \\ddots & 0\\\\ \n",
    "\\vdots & \\ddots & \\ddots & b & a & b\\\\ \n",
    "0 & \\cdots & \\cdots & 0 & b & a\n",
    "\\end{bmatrix}$$\n"
   ]
  },
  {
   "cell_type": "markdown",
   "metadata": {},
   "source": [
    "#### a) Faça um algoritmo para obter uma decomposição de Cholesky de uma matriz tridiagonal, supondo que ela seja definida positiva"
   ]
  },
  {
   "cell_type": "code",
   "execution_count": 1,
   "metadata": {},
   "outputs": [],
   "source": [
    "import numpy as np\n",
    "import math\n",
    "\n",
    "# Input: Matriz simetrica e positiva definida A(nxn)\n",
    "# Output: Matriz de triangular inferior L, A=L^T L\n",
    "def choleskyDecomposition(A):\n",
    "    L = np.tril(A)\n",
    "    n = np.shape(A)[0]\n",
    "    for k in range(n-1):\n",
    "        L[k][k] = math.sqrt(L[k][k])\n",
    "        for i in range(k+1,n):\n",
    "            L[i][k] /= L[k][k]\n",
    "        for j in range(k+1,n):\n",
    "            for i in range(j,n):\n",
    "                L[i][j] -= L[i][k] * L[j][k]\n",
    "    L[n-1][n-1] = math.sqrt(L[n-1][n-1])\n",
    "    return L"
   ]
  },
  {
   "cell_type": "code",
   "execution_count": 2,
   "metadata": {},
   "outputs": [
    {
     "name": "stdout",
     "output_type": "stream",
     "text": [
      "[[ 4. -1.  0.  0.]\n",
      " [-1.  4. -1.  0.]\n",
      " [ 0. -1.  4. -1.]\n",
      " [ 0.  0. -1.  4.]]\n",
      "\n",
      "[[ 2.          0.          0.          0.        ]\n",
      " [-0.5         1.93649167  0.          0.        ]\n",
      " [ 0.         -0.51639778  1.93218357  0.        ]\n",
      " [ 0.          0.         -0.51754917  1.93187548]]\n",
      "\n",
      "[[ 4. -1.  0.  0.]\n",
      " [-1.  4. -1.  0.]\n",
      " [ 0. -1.  4. -1.]\n",
      " [ 0.  0. -1.  4.]]\n"
     ]
    }
   ],
   "source": [
    "A = np.matrix([[4.0,-1.0,0.0,0.0],[-1.0,4.0,-1.0,0.0],[0.0,-1.0,4.0,-1.0],[0.0,0.0,-1.0,4.0]])\n",
    "print(A)\n",
    "print()\n",
    "L = choleskyDecomposition(A)\n",
    "print(L)\n",
    "print()\n",
    "print(L.dot(L.T))"
   ]
  },
  {
   "cell_type": "markdown",
   "metadata": {},
   "source": [
    "#### b) Faça um algoritmo para obter uma decomposição QR de uma matriz tridiagonal. Escolha entre Gram-Schmidt"
   ]
  },
  {
   "cell_type": "markdown",
   "metadata": {},
   "source": [
    "No contexto de uma matriz tridiagonal onde teremos a presença de muitos elementos iguais a zero, a rotação de Givens é a melhor escolha para uma computação eficiente."
   ]
  },
  {
   "cell_type": "code",
   "execution_count": 3,
   "metadata": {},
   "outputs": [],
   "source": [
    "import numpy as np\n",
    "import math\n",
    "\n",
    "def givens(a,b):\n",
    "    if b == 0:\n",
    "        c = 1\n",
    "        s = 0\n",
    "    elif abs(b) > abs(a):\n",
    "        s = 1/(math.sqrt(1+(-a/b)**2))\n",
    "        c = (-a/b)*s\n",
    "    else:\n",
    "        c = 1/(math.sqrt(1+(-b/a)**2))\n",
    "        s = (-b/a)*c\n",
    "    \n",
    "    return c,s\n",
    "\n",
    "def getQ(A):\n",
    "    m = np.shape(A)[0]\n",
    "    n = np.shape(A)[1]\n",
    "    Q = np.eye(m)\n",
    "    for C in range(n-1):\n",
    "        for L in range(C+1,m):\n",
    "            if A.A[L][C] != 0.0:\n",
    "                c,s = givens(A.A[C][C],A.A[L][C])\n",
    "                for k in range(n):\n",
    "                    aux1 = A.A[C][k]\n",
    "                    aux2 = A.A[L][k]\n",
    "                    A.A[C][k] = round( c*aux1 - s*aux2 , 5 )\n",
    "                    A.A[L][k] = round( s*aux1 + c*aux2 , 5 )\n",
    "                for k in range(m):\n",
    "                    aux1 = Q[k][C]\n",
    "                    aux2 = Q[k][L]\n",
    "                    Q[k][C] = round( c*aux1 - s*aux2 , 5 )\n",
    "                    Q[k][L] = round( s*aux1 + c*aux2 , 5 )\n",
    "    for u in range(n,m):\n",
    "        if A.A[u][n-1] != 0:\n",
    "            c,s = givens(A.A[n-1][n-1],A.A[u][n-1])\n",
    "            for k in range(n):\n",
    "                aux1 = A.A[n-1][k]\n",
    "                aux2 = A.A[u][k]\n",
    "                A.A[n-1][k] = round( c*aux1 - s*aux2 , 5 )\n",
    "                A.A[u][k] = round( s*aux1 + c*aux2 , 5 )\n",
    "            for k in range(m):\n",
    "                aux1 = Q[k][n-1]\n",
    "                aux2 = Q[k][u]\n",
    "                Q[k][n-1] = round( c*aux1 - s*aux2 , 5 )\n",
    "                Q[k][u] = round( s*aux1 + c*aux2 , 5 )\n",
    "                \n",
    "    return Q\n",
    "\n",
    "def getR(O,Q):\n",
    "    return Q.T.dot(O)"
   ]
  },
  {
   "cell_type": "code",
   "execution_count": 4,
   "metadata": {},
   "outputs": [
    {
     "name": "stdout",
     "output_type": "stream",
     "text": [
      "[[ 4. -1.  0.  0.]\n",
      " [-1.  4. -1.  0.]\n",
      " [ 0. -1.  4. -1.]\n",
      " [ 0.  0. -1.  4.]]\n",
      "\n",
      "[[ 0.97014  0.23387  0.06193  0.0172 ]\n",
      " [-0.24254  0.93544  0.24775  0.06882]\n",
      " [ 0.      -0.26504  0.92906  0.25808]\n",
      " [ 0.       0.      -0.26766  0.96351]]\n",
      "\n",
      "[[ 4.12310000e+00 -1.94030000e+00  2.42540000e-01  0.00000000e+00]\n",
      " [ 4.00000000e-05  3.77293000e+00 -1.99560000e+00  2.65040000e-01]\n",
      " [-3.00000000e-05  1.00000000e-05  3.73615000e+00 -1.99970000e+00]\n",
      " [-2.00000000e-05  5.55111512e-17 -1.00000000e-05  3.59596000e+00]]\n",
      "\n",
      "[[ 4. -1. -0. -0.]\n",
      " [-1.  4. -1. -0.]\n",
      " [-0. -1.  4. -1.]\n",
      " [-0. -0. -1.  4.]]\n"
     ]
    }
   ],
   "source": [
    "#O = np.matrix([[2.0,3.0,],[5.0,4.0],[8.0,9.0]])\n",
    "#A = np.matrix([[2.0,3.0,],[5.0,4.0],[8.0,9.0]])\n",
    "O = np.matrix([[4.0,-1.0,0.0,0.0],[-1.0,4.0,-1.0,0.0],[0.0,-1.0,4.0,-1.0],[0.0,0.0,-1.0,4.0]])\n",
    "A = np.matrix([[4.0,-1.0,0.0,0.0],[-1.0,4.0,-1.0,0.0],[0.0,-1.0,4.0,-1.0],[0.0,0.0,-1.0,4.0]])\n",
    "\n",
    "print(A)\n",
    "print()\n",
    "Q = getQ(A)\n",
    "print(Q)\n",
    "print()\n",
    "R = getR(O,Q)\n",
    "print(R)\n",
    "print()\n",
    "QR = Q.dot(R)\n",
    "for L in range(np.shape(QR)[0]):\n",
    "    for C in range(np.shape(QR)[1]):\n",
    "        QR.A[L][C] = round(QR.A[L][C],4)\n",
    "print(QR)"
   ]
  },
  {
   "cell_type": "markdown",
   "metadata": {},
   "source": [
    "# Questão 3\n",
    "Determine uma base ortonormal para o espaço complementar ortogonal ao vetor $v=[1,-1,1]$ $\\in$ $\\mathbf{R}^3$"
   ]
  },
  {
   "cell_type": "code",
   "execution_count": 5,
   "metadata": {},
   "outputs": [],
   "source": [
    "import numpy as np\n",
    "import math\n",
    "\n",
    "#Resolver a equação v1x+v2y+v3z=0\n",
    "#Tome z=y=1 e x = -v2/v1 - v3/v1\n",
    "def findOrthogonalBase(v):\n",
    "    v1 = np.array([-v[1]/v[0] - v[2]/v[0], 1 , 1])\n",
    "    print(round(v1.dot(v),10))\n",
    "    v2 = np.cross(v,v1)\n",
    "    print(round(v2.dot(v),10))\n",
    "    return v1,v2\n",
    "\n",
    "def tranformOrthonormal(v1,v2):\n",
    "    v1 /= np.linalg.norm(v1)\n",
    "    v2 /= np.linalg.norm(v2)\n",
    "    return v1,v2"
   ]
  },
  {
   "cell_type": "code",
   "execution_count": 6,
   "metadata": {},
   "outputs": [
    {
     "name": "stdout",
     "output_type": "stream",
     "text": [
      "0.0\n",
      "0.0\n",
      "\n",
      "[0.         0.70710678 0.70710678]\n",
      "\n",
      "[-0.81649658 -0.40824829  0.40824829]\n",
      "\n",
      "0.0\n",
      "0.0\n"
     ]
    }
   ],
   "source": [
    "v = np.array([1, -1 , 1])\n",
    "v1,v2 = findOrthogonalBase(v)\n",
    "v1,v2 = tranformOrthonormal(v1,v2)\n",
    "print()\n",
    "print(v1)\n",
    "print()\n",
    "print(v2)\n",
    "print()\n",
    "print(round(v1.dot(v),10))\n",
    "print(round(v2.dot(v),10))\n"
   ]
  },
  {
   "cell_type": "markdown",
   "metadata": {},
   "source": [
    "# Questão 4\n",
    "Calcule a pseudoinversa de A:\n",
    "$$A=\\begin{bmatrix}\n",
    "1 & 0\\\\ \n",
    "0 & 1\\\\ \n",
    "1 & 1\n",
    "\\end{bmatrix}$$"
   ]
  },
  {
   "cell_type": "code",
   "execution_count": 7,
   "metadata": {},
   "outputs": [],
   "source": [
    "import numpy as np\n",
    "import math\n",
    "\n",
    "def pseudoInversa(A):\n",
    "    AtA = A.T.dot(A)    \n",
    "    return AtA.I.dot(A.T)"
   ]
  },
  {
   "cell_type": "code",
   "execution_count": 8,
   "metadata": {},
   "outputs": [
    {
     "name": "stdout",
     "output_type": "stream",
     "text": [
      "[[1.  0.  0. ]\n",
      " [0.  0.5 0.5]]\n"
     ]
    }
   ],
   "source": [
    "A = np.matrix([[1.0,0.0,],[0.0,1.0],[0.0,1.0]])\n",
    "print(pseudoInversa(A))"
   ]
  },
  {
   "cell_type": "code",
   "execution_count": null,
   "metadata": {},
   "outputs": [],
   "source": []
  }
 ],
 "metadata": {
  "kernelspec": {
   "display_name": "Python 3",
   "language": "python",
   "name": "python3"
  },
  "language_info": {
   "codemirror_mode": {
    "name": "ipython",
    "version": 3
   },
   "file_extension": ".py",
   "mimetype": "text/x-python",
   "name": "python",
   "nbconvert_exporter": "python",
   "pygments_lexer": "ipython3",
   "version": "3.6.6"
  }
 },
 "nbformat": 4,
 "nbformat_minor": 2
}
